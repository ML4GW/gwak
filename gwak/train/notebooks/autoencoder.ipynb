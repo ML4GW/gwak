{
 "cells": [
  {
   "cell_type": "code",
   "execution_count": 2,
   "id": "e7989a1e-3111-4570-9261-cf681c0d0b8d",
   "metadata": {},
   "outputs": [],
   "source": [
    "import numpy as np\n",
    "import matplotlib.pyplot as plt\n",
    "from sklearn.metrics import roc_auc_score, accuracy_score, roc_curve\n",
    "import torch\n",
    "import torch.nn as nn\n",
    "from torch.utils.data import TensorDataset, DataLoader\n",
    "from tqdm import tqdm\n",
    "from scipy.special import logit\n",
    "import torch\n",
    "import torch.nn as nn\n",
    "from tqdm import tqdm\n",
    "from nflows.distributions import StandardNormal, ConditionalDiagonalNormal\n",
    "from nflows.transforms import CompositeTransform, ReversePermutation, MaskedAffineAutoregressiveTransform\n",
    "from nflows.flows import Flow\n",
    "\n",
    "# Setup device\n",
    "device = torch.device(\"cuda\" if torch.cuda.is_available() else \"cpu\")"
   ]
  },
  {
   "cell_type": "code",
   "execution_count": 3,
   "id": "e92ca577-70f3-4c1e-81e6-67f5089016a4",
   "metadata": {},
   "outputs": [
    {
     "name": "stdout",
     "output_type": "stream",
     "text": [
      "X_train: (199936, 16)\n",
      "y_train: (199936,)\n",
      "context_train: (199936, 1)\n",
      "X_test (signals): (199936, 16)\n",
      "y_test (signals): (199936,)\n",
      "context_test (signals): (199936, 1)\n",
      "X_bkg: (99968, 16)\n",
      "y_bkg: (99968,)\n",
      "context_bkg: (99968, 1)\n"
     ]
    }
   ],
   "source": [
    "# Load classifier training data\n",
    "X_train = np.load('/home/katya.govorkova/gwak2/gwak/output/ResNet_wnb_HL/embeddings.npy')\n",
    "y_train_full = np.load('/home/katya.govorkova/gwak2/gwak/output/ResNet_wnb_HL/labels.npy')\n",
    "context_train = np.load('/home/katya.govorkova/gwak2/gwak/output/ResNet_wnb_HL/correlations.npy')\n",
    "\n",
    "# Load classifier + NF test data (signals)\n",
    "X_test = np.load('/home/katya.govorkova/gwak2/gwak/output/ResNet_signals_HL/embeddings.npy')\n",
    "y_test_full = np.load('/home/katya.govorkova/gwak2/gwak/output/ResNet_signals_HL/labels.npy')\n",
    "context_test = np.load('/home/katya.govorkova/gwak2/gwak/output/ResNet_signals_HL/correlations.npy')\n",
    "\n",
    "# Load second test set (background)\n",
    "X_bkg = np.load('/home/katya.govorkova/gwak2/gwak/output/ResNet_HL/embeddings.npy')\n",
    "y_bkg_full = np.load('/home/katya.govorkova/gwak2/gwak/output/ResNet_HL/labels.npy')\n",
    "context_bkg = np.load('/home/katya.govorkova/gwak2/gwak/output/ResNet_HL/correlations.npy')\n",
    "\n",
    "# Print shapes for sanity check\n",
    "print(\"X_train:\", X_train.shape)\n",
    "print(\"y_train:\", y_train_full.shape)\n",
    "print(\"context_train:\", context_train.shape)\n",
    "\n",
    "print(\"X_test (signals):\", X_test.shape)\n",
    "print(\"y_test (signals):\", y_test_full.shape)\n",
    "print(\"context_test (signals):\", context_test.shape)\n",
    "\n",
    "print(\"X_bkg:\", X_bkg.shape)\n",
    "print(\"y_bkg:\", y_bkg_full.shape)\n",
    "print(\"context_bkg:\", context_bkg.shape)"
   ]
  },
  {
   "cell_type": "code",
   "execution_count": 6,
   "id": "d77893b5-6737-4a7b-9558-c38f8d8d54c8",
   "metadata": {
    "scrolled": true
   },
   "outputs": [
    {
     "name": "stdout",
     "output_type": "stream",
     "text": [
      "Training signal label: 1.0\n",
      "[NF Training] Signal samples: 99968\n",
      "[Test Set] Signals: 0, Background: 49984\n",
      "[Background-only Test Set] Samples: 99968\n"
     ]
    }
   ],
   "source": [
    "import numpy as np\n",
    "\n",
    "# Identify label of the signal class in training set\n",
    "train_signal_label = np.min(y_train_full)\n",
    "print(f\"Training signal label: {train_signal_label}\")\n",
    "\n",
    "# Extract only signal examples from training set\n",
    "signal_mask_train = (y_train_full == train_signal_label)\n",
    "X_train_signal = X_train[signal_mask_train]\n",
    "context_train_signal = context_train[signal_mask_train]\n",
    "\n",
    "print(f\"[NF Training] Signal samples: {len(X_train_signal)}\")\n",
    "\n",
    "# Prepare full signal+background test set (no filtering yet)\n",
    "X_test_filtered = X_test.copy()\n",
    "y_test_filtered = y_test_full.copy()\n",
    "context_test_filtered = context_test.copy()\n",
    "\n",
    "# Binary labels for evaluation\n",
    "test_signal_label = train_signal_label  # use same label\n",
    "y_test_binary = (y_test_filtered == test_signal_label).astype(int)\n",
    "\n",
    "print(f\"[Test Set] Signals: {np.sum(y_test_binary == 1)}, Background: {np.sum(y_test_binary == 0)}\")\n",
    "\n",
    "# Use full background-only set as-is\n",
    "# X_bkg, y_bkg_full, context_bkg already loaded\n",
    "print(f\"[Background-only Test Set] Samples: {len(X_bkg)}\")"
   ]
  },
  {
   "cell_type": "code",
   "execution_count": 7,
   "id": "2bcec9a9-a1e9-4bb0-a772-395c5826c958",
   "metadata": {},
   "outputs": [],
   "source": [
    "from sklearn.model_selection import train_test_split\n",
    "import torch\n",
    "from torch.utils.data import TensorDataset, DataLoader\n",
    "\n",
    "# Split signal-only training set into train/val\n",
    "X_tr, X_val, ctx_tr, ctx_val = train_test_split(\n",
    "    X_train_signal, context_train_signal, test_size=0.2, random_state=42\n",
    ")\n",
    "\n",
    "# Convert to torch tensors\n",
    "X_tr_tensor = torch.tensor(X_tr, dtype=torch.float32)\n",
    "X_val_tensor = torch.tensor(X_val, dtype=torch.float32)\n",
    "ctx_tr_tensor = torch.tensor(ctx_tr, dtype=torch.float32)\n",
    "ctx_val_tensor = torch.tensor(ctx_val, dtype=torch.float32)\n",
    "\n",
    "# Train and validation datasets for conditional NF\n",
    "train_ds = TensorDataset(X_tr_tensor, ctx_tr_tensor)\n",
    "val_ds = TensorDataset(X_val_tensor, ctx_val_tensor)\n",
    "\n",
    "# Test set (signals + background) with labels\n",
    "X_test_tensor = torch.tensor(X_test_filtered, dtype=torch.float32)\n",
    "ctx_test_tensor = torch.tensor(context_test_filtered, dtype=torch.float32)\n",
    "y_test_tensor = torch.tensor(y_test_binary, dtype=torch.float32)\n",
    "test_ds = TensorDataset(X_test_tensor, ctx_test_tensor, y_test_tensor)\n",
    "\n",
    "# Background-only test set (no filtering)\n",
    "X_bkg_tensor = torch.tensor(X_bkg, dtype=torch.float32)\n",
    "ctx_bkg_tensor = torch.tensor(context_bkg, dtype=torch.float32)\n",
    "bkg_ds = TensorDataset(X_bkg_tensor, ctx_bkg_tensor)\n",
    "\n",
    "# DataLoaders\n",
    "train_loader = DataLoader(train_ds, batch_size=128, shuffle=True)\n",
    "val_loader = DataLoader(val_ds, batch_size=128)\n",
    "test_loader = DataLoader(test_ds, batch_size=128)\n",
    "bkg_loader = DataLoader(bkg_ds, batch_size=128)"
   ]
  },
  {
   "cell_type": "code",
   "execution_count": 8,
   "id": "93a08348-3e02-4698-aca6-8af9134dce28",
   "metadata": {},
   "outputs": [
    {
     "name": "stdout",
     "output_type": "stream",
     "text": [
      "\n",
      "Training Embeddings (Signal Only) feature summary:\n"
     ]
    },
    {
     "data": {
      "text/html": [
       "<div>\n",
       "<style scoped>\n",
       "    .dataframe tbody tr th:only-of-type {\n",
       "        vertical-align: middle;\n",
       "    }\n",
       "\n",
       "    .dataframe tbody tr th {\n",
       "        vertical-align: top;\n",
       "    }\n",
       "\n",
       "    .dataframe thead th {\n",
       "        text-align: right;\n",
       "    }\n",
       "</style>\n",
       "<table border=\"1\" class=\"dataframe\">\n",
       "  <thead>\n",
       "    <tr style=\"text-align: right;\">\n",
       "      <th></th>\n",
       "      <th>min</th>\n",
       "      <th>max</th>\n",
       "      <th>mean</th>\n",
       "    </tr>\n",
       "  </thead>\n",
       "  <tbody>\n",
       "    <tr>\n",
       "      <th>feat_0</th>\n",
       "      <td>-0.823491</td>\n",
       "      <td>1.768859</td>\n",
       "      <td>0.518016</td>\n",
       "    </tr>\n",
       "    <tr>\n",
       "      <th>feat_1</th>\n",
       "      <td>-1.828741</td>\n",
       "      <td>0.307277</td>\n",
       "      <td>-1.081162</td>\n",
       "    </tr>\n",
       "    <tr>\n",
       "      <th>feat_2</th>\n",
       "      <td>-0.106528</td>\n",
       "      <td>2.227935</td>\n",
       "      <td>1.364174</td>\n",
       "    </tr>\n",
       "    <tr>\n",
       "      <th>feat_3</th>\n",
       "      <td>-3.631402</td>\n",
       "      <td>-0.920592</td>\n",
       "      <td>-2.544120</td>\n",
       "    </tr>\n",
       "    <tr>\n",
       "      <th>feat_4</th>\n",
       "      <td>-0.792154</td>\n",
       "      <td>1.637247</td>\n",
       "      <td>0.537391</td>\n",
       "    </tr>\n",
       "    <tr>\n",
       "      <th>feat_5</th>\n",
       "      <td>-2.176033</td>\n",
       "      <td>0.280187</td>\n",
       "      <td>-1.270001</td>\n",
       "    </tr>\n",
       "    <tr>\n",
       "      <th>feat_6</th>\n",
       "      <td>-2.837937</td>\n",
       "      <td>0.499910</td>\n",
       "      <td>-0.662403</td>\n",
       "    </tr>\n",
       "    <tr>\n",
       "      <th>feat_7</th>\n",
       "      <td>-6.715720</td>\n",
       "      <td>-2.348159</td>\n",
       "      <td>-5.549748</td>\n",
       "    </tr>\n",
       "    <tr>\n",
       "      <th>feat_8</th>\n",
       "      <td>-0.756428</td>\n",
       "      <td>0.159245</td>\n",
       "      <td>-0.248232</td>\n",
       "    </tr>\n",
       "    <tr>\n",
       "      <th>feat_9</th>\n",
       "      <td>-2.548387</td>\n",
       "      <td>0.630174</td>\n",
       "      <td>-1.051776</td>\n",
       "    </tr>\n",
       "    <tr>\n",
       "      <th>feat_10</th>\n",
       "      <td>-0.831490</td>\n",
       "      <td>0.973803</td>\n",
       "      <td>0.432213</td>\n",
       "    </tr>\n",
       "    <tr>\n",
       "      <th>feat_11</th>\n",
       "      <td>-1.039342</td>\n",
       "      <td>1.914268</td>\n",
       "      <td>0.438345</td>\n",
       "    </tr>\n",
       "    <tr>\n",
       "      <th>feat_12</th>\n",
       "      <td>-1.206306</td>\n",
       "      <td>1.001318</td>\n",
       "      <td>-0.291302</td>\n",
       "    </tr>\n",
       "    <tr>\n",
       "      <th>feat_13</th>\n",
       "      <td>-0.203518</td>\n",
       "      <td>2.185685</td>\n",
       "      <td>1.406395</td>\n",
       "    </tr>\n",
       "    <tr>\n",
       "      <th>feat_14</th>\n",
       "      <td>-2.050551</td>\n",
       "      <td>0.159387</td>\n",
       "      <td>-1.231286</td>\n",
       "    </tr>\n",
       "    <tr>\n",
       "      <th>feat_15</th>\n",
       "      <td>-0.384217</td>\n",
       "      <td>2.221478</td>\n",
       "      <td>1.250656</td>\n",
       "    </tr>\n",
       "  </tbody>\n",
       "</table>\n",
       "</div>"
      ],
      "text/plain": [
       "              min       max      mean\n",
       "feat_0  -0.823491  1.768859  0.518016\n",
       "feat_1  -1.828741  0.307277 -1.081162\n",
       "feat_2  -0.106528  2.227935  1.364174\n",
       "feat_3  -3.631402 -0.920592 -2.544120\n",
       "feat_4  -0.792154  1.637247  0.537391\n",
       "feat_5  -2.176033  0.280187 -1.270001\n",
       "feat_6  -2.837937  0.499910 -0.662403\n",
       "feat_7  -6.715720 -2.348159 -5.549748\n",
       "feat_8  -0.756428  0.159245 -0.248232\n",
       "feat_9  -2.548387  0.630174 -1.051776\n",
       "feat_10 -0.831490  0.973803  0.432213\n",
       "feat_11 -1.039342  1.914268  0.438345\n",
       "feat_12 -1.206306  1.001318 -0.291302\n",
       "feat_13 -0.203518  2.185685  1.406395\n",
       "feat_14 -2.050551  0.159387 -1.231286\n",
       "feat_15 -0.384217  2.221478  1.250656"
      ]
     },
     "metadata": {},
     "output_type": "display_data"
    },
    {
     "name": "stdout",
     "output_type": "stream",
     "text": [
      "\n",
      "Test Embeddings (Signals + Background) feature summary:\n"
     ]
    },
    {
     "data": {
      "text/html": [
       "<div>\n",
       "<style scoped>\n",
       "    .dataframe tbody tr th:only-of-type {\n",
       "        vertical-align: middle;\n",
       "    }\n",
       "\n",
       "    .dataframe tbody tr th {\n",
       "        vertical-align: top;\n",
       "    }\n",
       "\n",
       "    .dataframe thead th {\n",
       "        text-align: right;\n",
       "    }\n",
       "</style>\n",
       "<table border=\"1\" class=\"dataframe\">\n",
       "  <thead>\n",
       "    <tr style=\"text-align: right;\">\n",
       "      <th></th>\n",
       "      <th>min</th>\n",
       "      <th>max</th>\n",
       "      <th>mean</th>\n",
       "    </tr>\n",
       "  </thead>\n",
       "  <tbody>\n",
       "    <tr>\n",
       "      <th>feat_0</th>\n",
       "      <td>-0.884004</td>\n",
       "      <td>1.712306</td>\n",
       "      <td>0.293583</td>\n",
       "    </tr>\n",
       "    <tr>\n",
       "      <th>feat_1</th>\n",
       "      <td>-1.702500</td>\n",
       "      <td>0.385448</td>\n",
       "      <td>-0.953610</td>\n",
       "    </tr>\n",
       "    <tr>\n",
       "      <th>feat_2</th>\n",
       "      <td>-0.277713</td>\n",
       "      <td>2.224108</td>\n",
       "      <td>1.231197</td>\n",
       "    </tr>\n",
       "    <tr>\n",
       "      <th>feat_3</th>\n",
       "      <td>-3.562857</td>\n",
       "      <td>-0.865574</td>\n",
       "      <td>-2.478424</td>\n",
       "    </tr>\n",
       "    <tr>\n",
       "      <th>feat_4</th>\n",
       "      <td>-0.727057</td>\n",
       "      <td>1.710533</td>\n",
       "      <td>0.566758</td>\n",
       "    </tr>\n",
       "    <tr>\n",
       "      <th>feat_5</th>\n",
       "      <td>-2.194729</td>\n",
       "      <td>0.666447</td>\n",
       "      <td>-1.134076</td>\n",
       "    </tr>\n",
       "    <tr>\n",
       "      <th>feat_6</th>\n",
       "      <td>-2.957579</td>\n",
       "      <td>0.447521</td>\n",
       "      <td>-0.887502</td>\n",
       "    </tr>\n",
       "    <tr>\n",
       "      <th>feat_7</th>\n",
       "      <td>-6.692633</td>\n",
       "      <td>-2.577528</td>\n",
       "      <td>-5.540372</td>\n",
       "    </tr>\n",
       "    <tr>\n",
       "      <th>feat_8</th>\n",
       "      <td>-0.830857</td>\n",
       "      <td>0.341462</td>\n",
       "      <td>-0.237391</td>\n",
       "    </tr>\n",
       "    <tr>\n",
       "      <th>feat_9</th>\n",
       "      <td>-2.464218</td>\n",
       "      <td>0.676337</td>\n",
       "      <td>-0.861810</td>\n",
       "    </tr>\n",
       "    <tr>\n",
       "      <th>feat_10</th>\n",
       "      <td>-0.858419</td>\n",
       "      <td>0.921535</td>\n",
       "      <td>0.356324</td>\n",
       "    </tr>\n",
       "    <tr>\n",
       "      <th>feat_11</th>\n",
       "      <td>-0.948162</td>\n",
       "      <td>1.970664</td>\n",
       "      <td>0.604820</td>\n",
       "    </tr>\n",
       "    <tr>\n",
       "      <th>feat_12</th>\n",
       "      <td>-1.261090</td>\n",
       "      <td>1.289225</td>\n",
       "      <td>-0.278266</td>\n",
       "    </tr>\n",
       "    <tr>\n",
       "      <th>feat_13</th>\n",
       "      <td>-0.759644</td>\n",
       "      <td>2.164363</td>\n",
       "      <td>1.259431</td>\n",
       "    </tr>\n",
       "    <tr>\n",
       "      <th>feat_14</th>\n",
       "      <td>-2.049291</td>\n",
       "      <td>0.527495</td>\n",
       "      <td>-1.046132</td>\n",
       "    </tr>\n",
       "    <tr>\n",
       "      <th>feat_15</th>\n",
       "      <td>-0.354010</td>\n",
       "      <td>2.222293</td>\n",
       "      <td>1.132630</td>\n",
       "    </tr>\n",
       "  </tbody>\n",
       "</table>\n",
       "</div>"
      ],
      "text/plain": [
       "              min       max      mean\n",
       "feat_0  -0.884004  1.712306  0.293583\n",
       "feat_1  -1.702500  0.385448 -0.953610\n",
       "feat_2  -0.277713  2.224108  1.231197\n",
       "feat_3  -3.562857 -0.865574 -2.478424\n",
       "feat_4  -0.727057  1.710533  0.566758\n",
       "feat_5  -2.194729  0.666447 -1.134076\n",
       "feat_6  -2.957579  0.447521 -0.887502\n",
       "feat_7  -6.692633 -2.577528 -5.540372\n",
       "feat_8  -0.830857  0.341462 -0.237391\n",
       "feat_9  -2.464218  0.676337 -0.861810\n",
       "feat_10 -0.858419  0.921535  0.356324\n",
       "feat_11 -0.948162  1.970664  0.604820\n",
       "feat_12 -1.261090  1.289225 -0.278266\n",
       "feat_13 -0.759644  2.164363  1.259431\n",
       "feat_14 -2.049291  0.527495 -1.046132\n",
       "feat_15 -0.354010  2.222293  1.132630"
      ]
     },
     "metadata": {},
     "output_type": "display_data"
    },
    {
     "name": "stdout",
     "output_type": "stream",
     "text": [
      "\n",
      "Test Embeddings (Background Only) feature summary:\n"
     ]
    },
    {
     "data": {
      "text/html": [
       "<div>\n",
       "<style scoped>\n",
       "    .dataframe tbody tr th:only-of-type {\n",
       "        vertical-align: middle;\n",
       "    }\n",
       "\n",
       "    .dataframe tbody tr th {\n",
       "        vertical-align: top;\n",
       "    }\n",
       "\n",
       "    .dataframe thead th {\n",
       "        text-align: right;\n",
       "    }\n",
       "</style>\n",
       "<table border=\"1\" class=\"dataframe\">\n",
       "  <thead>\n",
       "    <tr style=\"text-align: right;\">\n",
       "      <th></th>\n",
       "      <th>min</th>\n",
       "      <th>max</th>\n",
       "      <th>mean</th>\n",
       "    </tr>\n",
       "  </thead>\n",
       "  <tbody>\n",
       "    <tr>\n",
       "      <th>feat_0</th>\n",
       "      <td>-0.923425</td>\n",
       "      <td>1.544518</td>\n",
       "      <td>0.075557</td>\n",
       "    </tr>\n",
       "    <tr>\n",
       "      <th>feat_1</th>\n",
       "      <td>-1.602362</td>\n",
       "      <td>0.356237</td>\n",
       "      <td>-0.830534</td>\n",
       "    </tr>\n",
       "    <tr>\n",
       "      <th>feat_2</th>\n",
       "      <td>-0.286450</td>\n",
       "      <td>2.032506</td>\n",
       "      <td>1.101465</td>\n",
       "    </tr>\n",
       "    <tr>\n",
       "      <th>feat_3</th>\n",
       "      <td>-3.369917</td>\n",
       "      <td>-0.613869</td>\n",
       "      <td>-2.414099</td>\n",
       "    </tr>\n",
       "    <tr>\n",
       "      <th>feat_4</th>\n",
       "      <td>-0.765827</td>\n",
       "      <td>1.727490</td>\n",
       "      <td>0.595974</td>\n",
       "    </tr>\n",
       "    <tr>\n",
       "      <th>feat_5</th>\n",
       "      <td>-1.965027</td>\n",
       "      <td>0.666447</td>\n",
       "      <td>-1.001327</td>\n",
       "    </tr>\n",
       "    <tr>\n",
       "      <th>feat_6</th>\n",
       "      <td>-2.957600</td>\n",
       "      <td>0.246266</td>\n",
       "      <td>-1.106921</td>\n",
       "    </tr>\n",
       "    <tr>\n",
       "      <th>feat_7</th>\n",
       "      <td>-6.462726</td>\n",
       "      <td>-2.335717</td>\n",
       "      <td>-5.530254</td>\n",
       "    </tr>\n",
       "    <tr>\n",
       "      <th>feat_8</th>\n",
       "      <td>-0.782748</td>\n",
       "      <td>0.341462</td>\n",
       "      <td>-0.226501</td>\n",
       "    </tr>\n",
       "    <tr>\n",
       "      <th>feat_9</th>\n",
       "      <td>-2.187151</td>\n",
       "      <td>0.736296</td>\n",
       "      <td>-0.677595</td>\n",
       "    </tr>\n",
       "    <tr>\n",
       "      <th>feat_10</th>\n",
       "      <td>-0.771854</td>\n",
       "      <td>0.891261</td>\n",
       "      <td>0.283138</td>\n",
       "    </tr>\n",
       "    <tr>\n",
       "      <th>feat_11</th>\n",
       "      <td>-0.658631</td>\n",
       "      <td>1.910001</td>\n",
       "      <td>0.765876</td>\n",
       "    </tr>\n",
       "    <tr>\n",
       "      <th>feat_12</th>\n",
       "      <td>-1.205759</td>\n",
       "      <td>1.251136</td>\n",
       "      <td>-0.264815</td>\n",
       "    </tr>\n",
       "    <tr>\n",
       "      <th>feat_13</th>\n",
       "      <td>-0.759644</td>\n",
       "      <td>1.999831</td>\n",
       "      <td>1.116605</td>\n",
       "    </tr>\n",
       "    <tr>\n",
       "      <th>feat_14</th>\n",
       "      <td>-2.032815</td>\n",
       "      <td>0.542403</td>\n",
       "      <td>-0.866648</td>\n",
       "    </tr>\n",
       "    <tr>\n",
       "      <th>feat_15</th>\n",
       "      <td>-0.460019</td>\n",
       "      <td>2.051895</td>\n",
       "      <td>1.017708</td>\n",
       "    </tr>\n",
       "  </tbody>\n",
       "</table>\n",
       "</div>"
      ],
      "text/plain": [
       "              min       max      mean\n",
       "feat_0  -0.923425  1.544518  0.075557\n",
       "feat_1  -1.602362  0.356237 -0.830534\n",
       "feat_2  -0.286450  2.032506  1.101465\n",
       "feat_3  -3.369917 -0.613869 -2.414099\n",
       "feat_4  -0.765827  1.727490  0.595974\n",
       "feat_5  -1.965027  0.666447 -1.001327\n",
       "feat_6  -2.957600  0.246266 -1.106921\n",
       "feat_7  -6.462726 -2.335717 -5.530254\n",
       "feat_8  -0.782748  0.341462 -0.226501\n",
       "feat_9  -2.187151  0.736296 -0.677595\n",
       "feat_10 -0.771854  0.891261  0.283138\n",
       "feat_11 -0.658631  1.910001  0.765876\n",
       "feat_12 -1.205759  1.251136 -0.264815\n",
       "feat_13 -0.759644  1.999831  1.116605\n",
       "feat_14 -2.032815  0.542403 -0.866648\n",
       "feat_15 -0.460019  2.051895  1.017708"
      ]
     },
     "metadata": {},
     "output_type": "display_data"
    },
    {
     "name": "stdout",
     "output_type": "stream",
     "text": [
      "\n",
      "Training Context (Signal Only) feature summary:\n"
     ]
    },
    {
     "data": {
      "text/html": [
       "<div>\n",
       "<style scoped>\n",
       "    .dataframe tbody tr th:only-of-type {\n",
       "        vertical-align: middle;\n",
       "    }\n",
       "\n",
       "    .dataframe tbody tr th {\n",
       "        vertical-align: top;\n",
       "    }\n",
       "\n",
       "    .dataframe thead th {\n",
       "        text-align: right;\n",
       "    }\n",
       "</style>\n",
       "<table border=\"1\" class=\"dataframe\">\n",
       "  <thead>\n",
       "    <tr style=\"text-align: right;\">\n",
       "      <th></th>\n",
       "      <th>min</th>\n",
       "      <th>max</th>\n",
       "      <th>mean</th>\n",
       "    </tr>\n",
       "  </thead>\n",
       "  <tbody>\n",
       "    <tr>\n",
       "      <th>feat_0</th>\n",
       "      <td>-0.332359</td>\n",
       "      <td>0.309181</td>\n",
       "      <td>0.000015</td>\n",
       "    </tr>\n",
       "  </tbody>\n",
       "</table>\n",
       "</div>"
      ],
      "text/plain": [
       "             min       max      mean\n",
       "feat_0 -0.332359  0.309181  0.000015"
      ]
     },
     "metadata": {},
     "output_type": "display_data"
    },
    {
     "name": "stdout",
     "output_type": "stream",
     "text": [
      "\n",
      "Test Context (Signals + Background) feature summary:\n"
     ]
    },
    {
     "data": {
      "text/html": [
       "<div>\n",
       "<style scoped>\n",
       "    .dataframe tbody tr th:only-of-type {\n",
       "        vertical-align: middle;\n",
       "    }\n",
       "\n",
       "    .dataframe tbody tr th {\n",
       "        vertical-align: top;\n",
       "    }\n",
       "\n",
       "    .dataframe thead th {\n",
       "        text-align: right;\n",
       "    }\n",
       "</style>\n",
       "<table border=\"1\" class=\"dataframe\">\n",
       "  <thead>\n",
       "    <tr style=\"text-align: right;\">\n",
       "      <th></th>\n",
       "      <th>min</th>\n",
       "      <th>max</th>\n",
       "      <th>mean</th>\n",
       "    </tr>\n",
       "  </thead>\n",
       "  <tbody>\n",
       "    <tr>\n",
       "      <th>feat_0</th>\n",
       "      <td>-0.2862</td>\n",
       "      <td>0.382235</td>\n",
       "      <td>0.000031</td>\n",
       "    </tr>\n",
       "  </tbody>\n",
       "</table>\n",
       "</div>"
      ],
      "text/plain": [
       "           min       max      mean\n",
       "feat_0 -0.2862  0.382235  0.000031"
      ]
     },
     "metadata": {},
     "output_type": "display_data"
    },
    {
     "name": "stdout",
     "output_type": "stream",
     "text": [
      "\n",
      "Test Context (Background Only) feature summary:\n"
     ]
    },
    {
     "data": {
      "text/html": [
       "<div>\n",
       "<style scoped>\n",
       "    .dataframe tbody tr th:only-of-type {\n",
       "        vertical-align: middle;\n",
       "    }\n",
       "\n",
       "    .dataframe tbody tr th {\n",
       "        vertical-align: top;\n",
       "    }\n",
       "\n",
       "    .dataframe thead th {\n",
       "        text-align: right;\n",
       "    }\n",
       "</style>\n",
       "<table border=\"1\" class=\"dataframe\">\n",
       "  <thead>\n",
       "    <tr style=\"text-align: right;\">\n",
       "      <th></th>\n",
       "      <th>min</th>\n",
       "      <th>max</th>\n",
       "      <th>mean</th>\n",
       "    </tr>\n",
       "  </thead>\n",
       "  <tbody>\n",
       "    <tr>\n",
       "      <th>feat_0</th>\n",
       "      <td>-0.316513</td>\n",
       "      <td>0.345902</td>\n",
       "      <td>0.000131</td>\n",
       "    </tr>\n",
       "  </tbody>\n",
       "</table>\n",
       "</div>"
      ],
      "text/plain": [
       "             min       max      mean\n",
       "feat_0 -0.316513  0.345902  0.000131"
      ]
     },
     "metadata": {},
     "output_type": "display_data"
    }
   ],
   "source": [
    "import pandas as pd\n",
    "\n",
    "def summarize_features(X, name):\n",
    "    df = pd.DataFrame(X, columns=[f'feat_{i}' for i in range(X.shape[1])])\n",
    "    summary = pd.DataFrame({\n",
    "        'min': df.min(),\n",
    "        'max': df.max(),\n",
    "        'mean': df.mean()\n",
    "    })\n",
    "    print(f\"\\n{name} feature summary:\")\n",
    "    display(summary)\n",
    "\n",
    "# Summarize embedding features\n",
    "summarize_features(X_train_signal, \"Training Embeddings (Signal Only)\")\n",
    "summarize_features(X_test_filtered, \"Test Embeddings (Signals + Background)\")\n",
    "summarize_features(X_bkg, \"Test Embeddings (Background Only)\")\n",
    "\n",
    "# Summarize context features\n",
    "summarize_features(context_train_signal, \"Training Context (Signal Only)\")\n",
    "summarize_features(context_test_filtered, \"Test Context (Signals + Background)\")\n",
    "summarize_features(context_bkg, \"Test Context (Background Only)\")"
   ]
  },
  {
   "cell_type": "code",
   "execution_count": 9,
   "id": "5bd964d3-4109-4761-84d2-8f2d10058f45",
   "metadata": {},
   "outputs": [
    {
     "name": "stderr",
     "output_type": "stream",
     "text": [
      "[Train] Epoch 01: 100%|████████████████████████████████████████████████████████████████████████████| 625/625 [00:14<00:00, 44.62it/s]\n"
     ]
    },
    {
     "name": "stdout",
     "output_type": "stream",
     "text": [
      "Epoch 01 | Train NLL: -18.8666 | Val NLL: -23.8698\n"
     ]
    },
    {
     "name": "stderr",
     "output_type": "stream",
     "text": [
      "[Train] Epoch 02: 100%|████████████████████████████████████████████████████████████████████████████| 625/625 [00:14<00:00, 43.32it/s]\n"
     ]
    },
    {
     "name": "stdout",
     "output_type": "stream",
     "text": [
      "Epoch 02 | Train NLL: -24.4979 | Val NLL: -25.3721\n"
     ]
    },
    {
     "name": "stderr",
     "output_type": "stream",
     "text": [
      "[Train] Epoch 03: 100%|████████████████████████████████████████████████████████████████████████████| 625/625 [00:14<00:00, 43.33it/s]\n"
     ]
    },
    {
     "name": "stdout",
     "output_type": "stream",
     "text": [
      "Epoch 03 | Train NLL: -25.4077 | Val NLL: -25.8603\n"
     ]
    },
    {
     "name": "stderr",
     "output_type": "stream",
     "text": [
      "[Train] Epoch 04: 100%|████████████████████████████████████████████████████████████████████████████| 625/625 [00:13<00:00, 45.06it/s]\n"
     ]
    },
    {
     "name": "stdout",
     "output_type": "stream",
     "text": [
      "Epoch 04 | Train NLL: -25.7593 | Val NLL: -26.0934\n"
     ]
    },
    {
     "name": "stderr",
     "output_type": "stream",
     "text": [
      "[Train] Epoch 05: 100%|████████████████████████████████████████████████████████████████████████████| 625/625 [00:14<00:00, 43.95it/s]\n"
     ]
    },
    {
     "name": "stdout",
     "output_type": "stream",
     "text": [
      "Epoch 05 | Train NLL: -26.1082 | Val NLL: -26.1460\n"
     ]
    },
    {
     "name": "stderr",
     "output_type": "stream",
     "text": [
      "[Train] Epoch 06: 100%|████████████████████████████████████████████████████████████████████████████| 625/625 [00:13<00:00, 46.62it/s]\n"
     ]
    },
    {
     "name": "stdout",
     "output_type": "stream",
     "text": [
      "Epoch 06 | Train NLL: -26.2282 | Val NLL: -26.0370\n"
     ]
    },
    {
     "name": "stderr",
     "output_type": "stream",
     "text": [
      "[Train] Epoch 07: 100%|████████████████████████████████████████████████████████████████████████████| 625/625 [00:14<00:00, 44.00it/s]\n"
     ]
    },
    {
     "name": "stdout",
     "output_type": "stream",
     "text": [
      "Epoch 07 | Train NLL: -26.3773 | Val NLL: -26.1618\n"
     ]
    },
    {
     "name": "stderr",
     "output_type": "stream",
     "text": [
      "[Train] Epoch 08: 100%|████████████████████████████████████████████████████████████████████████████| 625/625 [00:13<00:00, 46.40it/s]\n"
     ]
    },
    {
     "name": "stdout",
     "output_type": "stream",
     "text": [
      "Epoch 08 | Train NLL: -26.5240 | Val NLL: -26.4759\n"
     ]
    },
    {
     "name": "stderr",
     "output_type": "stream",
     "text": [
      "[Train] Epoch 09: 100%|████████████████████████████████████████████████████████████████████████████| 625/625 [00:15<00:00, 41.64it/s]\n"
     ]
    },
    {
     "name": "stdout",
     "output_type": "stream",
     "text": [
      "Epoch 09 | Train NLL: -26.5951 | Val NLL: -26.7175\n"
     ]
    },
    {
     "name": "stderr",
     "output_type": "stream",
     "text": [
      "[Train] Epoch 10: 100%|████████████████████████████████████████████████████████████████████████████| 625/625 [00:13<00:00, 45.83it/s]\n"
     ]
    },
    {
     "name": "stdout",
     "output_type": "stream",
     "text": [
      "Epoch 10 | Train NLL: -26.7317 | Val NLL: -26.9275\n"
     ]
    },
    {
     "name": "stderr",
     "output_type": "stream",
     "text": [
      "[Train] Epoch 11: 100%|████████████████████████████████████████████████████████████████████████████| 625/625 [00:14<00:00, 44.45it/s]\n"
     ]
    },
    {
     "name": "stdout",
     "output_type": "stream",
     "text": [
      "Epoch 11 | Train NLL: -26.7188 | Val NLL: -26.6317\n"
     ]
    },
    {
     "name": "stderr",
     "output_type": "stream",
     "text": [
      "[Train] Epoch 12: 100%|████████████████████████████████████████████████████████████████████████████| 625/625 [00:13<00:00, 44.72it/s]\n"
     ]
    },
    {
     "name": "stdout",
     "output_type": "stream",
     "text": [
      "Epoch 12 | Train NLL: -26.7328 | Val NLL: -26.7116\n"
     ]
    },
    {
     "name": "stderr",
     "output_type": "stream",
     "text": [
      "[Train] Epoch 13: 100%|████████████████████████████████████████████████████████████████████████████| 625/625 [00:13<00:00, 44.84it/s]\n"
     ]
    },
    {
     "name": "stdout",
     "output_type": "stream",
     "text": [
      "Epoch 13 | Train NLL: -26.8576 | Val NLL: -26.8212\n"
     ]
    },
    {
     "name": "stderr",
     "output_type": "stream",
     "text": [
      "[Train] Epoch 14: 100%|████████████████████████████████████████████████████████████████████████████| 625/625 [00:14<00:00, 44.63it/s]\n"
     ]
    },
    {
     "name": "stdout",
     "output_type": "stream",
     "text": [
      "Epoch 14 | Train NLL: -26.9053 | Val NLL: -26.9680\n"
     ]
    },
    {
     "name": "stderr",
     "output_type": "stream",
     "text": [
      "[Train] Epoch 15: 100%|████████████████████████████████████████████████████████████████████████████| 625/625 [00:13<00:00, 44.89it/s]\n"
     ]
    },
    {
     "name": "stdout",
     "output_type": "stream",
     "text": [
      "Epoch 15 | Train NLL: -26.9073 | Val NLL: -26.9744\n"
     ]
    },
    {
     "name": "stderr",
     "output_type": "stream",
     "text": [
      "[Train] Epoch 16: 100%|████████████████████████████████████████████████████████████████████████████| 625/625 [00:14<00:00, 43.98it/s]\n"
     ]
    },
    {
     "name": "stdout",
     "output_type": "stream",
     "text": [
      "Epoch 16 | Train NLL: -26.9820 | Val NLL: -26.7987\n"
     ]
    },
    {
     "name": "stderr",
     "output_type": "stream",
     "text": [
      "[Train] Epoch 17: 100%|████████████████████████████████████████████████████████████████████████████| 625/625 [00:13<00:00, 45.77it/s]\n"
     ]
    },
    {
     "name": "stdout",
     "output_type": "stream",
     "text": [
      "Epoch 17 | Train NLL: -26.9889 | Val NLL: -26.7509\n"
     ]
    },
    {
     "name": "stderr",
     "output_type": "stream",
     "text": [
      "[Train] Epoch 18: 100%|████████████████████████████████████████████████████████████████████████████| 625/625 [00:13<00:00, 47.22it/s]\n"
     ]
    },
    {
     "name": "stdout",
     "output_type": "stream",
     "text": [
      "Epoch 18 | Train NLL: -27.0472 | Val NLL: -26.7878\n"
     ]
    },
    {
     "name": "stderr",
     "output_type": "stream",
     "text": [
      "[Train] Epoch 19: 100%|████████████████████████████████████████████████████████████████████████████| 625/625 [00:13<00:00, 47.71it/s]\n"
     ]
    },
    {
     "name": "stdout",
     "output_type": "stream",
     "text": [
      "Epoch 19 | Train NLL: -27.1057 | Val NLL: -27.0166\n"
     ]
    },
    {
     "name": "stderr",
     "output_type": "stream",
     "text": [
      "[Train] Epoch 20: 100%|████████████████████████████████████████████████████████████████████████████| 625/625 [00:13<00:00, 47.51it/s]\n"
     ]
    },
    {
     "name": "stdout",
     "output_type": "stream",
     "text": [
      "Epoch 20 | Train NLL: -27.0738 | Val NLL: -26.9592\n"
     ]
    }
   ],
   "source": [
    "import torch\n",
    "import torch.nn as nn\n",
    "from tqdm import tqdm\n",
    "from nflows.distributions import StandardNormal, ConditionalDiagonalNormal\n",
    "from nflows.transforms import CompositeTransform, ReversePermutation, MaskedAffineAutoregressiveTransform\n",
    "from nflows.flows import Flow\n",
    "\n",
    "# Config\n",
    "n_dims = X_tr.shape[1]\n",
    "context_dims = ctx_tr.shape[1]\n",
    "n_flow_steps = 5\n",
    "hidden_dim = 128\n",
    "use_conditioning = True\n",
    "\n",
    "# Build flow transform\n",
    "transforms = []\n",
    "for _ in range(n_flow_steps):\n",
    "    maf = MaskedAffineAutoregressiveTransform(\n",
    "        features=n_dims,\n",
    "        hidden_features=hidden_dim,\n",
    "        num_blocks=4,\n",
    "        context_features=context_dims if use_conditioning else 0\n",
    "    )\n",
    "    transforms.append(maf)\n",
    "    transforms.append(ReversePermutation(features=n_dims))\n",
    "\n",
    "transform = CompositeTransform(transforms)\n",
    "\n",
    "# Base distribution\n",
    "if use_conditioning:\n",
    "    base_dist = ConditionalDiagonalNormal(\n",
    "        shape=[n_dims],\n",
    "        context_encoder=nn.Linear(context_dims, 2 * n_dims)\n",
    "    )\n",
    "else:\n",
    "    base_dist = StandardNormal([n_dims])\n",
    "\n",
    "# Create flow model\n",
    "flow = Flow(transform=transform, distribution=base_dist).to(device)\n",
    "\n",
    "# Optimizer\n",
    "optimizer = torch.optim.Adam(flow.parameters(), lr=1e-3)\n",
    "\n",
    "# Training loop with validation\n",
    "epochs = 20\n",
    "for epoch in range(epochs):\n",
    "    flow.train()\n",
    "    total_train_loss = 0.0\n",
    "    for xb, ctx in tqdm(train_loader, desc=f\"[Train] Epoch {epoch+1:02d}\"):\n",
    "        xb, ctx = xb.to(device), ctx.to(device)\n",
    "        optimizer.zero_grad()\n",
    "        loss = -flow.log_prob(inputs=xb, context=ctx).mean()\n",
    "        loss.backward()\n",
    "        optimizer.step()\n",
    "        total_train_loss += loss.item()\n",
    "\n",
    "    avg_train_loss = total_train_loss / len(train_loader)\n",
    "\n",
    "    # Validation\n",
    "    flow.eval()\n",
    "    total_val_loss = 0.0\n",
    "    with torch.no_grad():\n",
    "        for xb, ctx in val_loader:\n",
    "            xb, ctx = xb.to(device), ctx.to(device)\n",
    "            val_loss = -flow.log_prob(inputs=xb, context=ctx).mean()\n",
    "            total_val_loss += val_loss.item()\n",
    "\n",
    "    avg_val_loss = total_val_loss / len(val_loader)\n",
    "\n",
    "    print(f\"Epoch {epoch+1:02d} | Train NLL: {avg_train_loss:.4f} | Val NLL: {avg_val_loss:.4f}\")"
   ]
  },
  {
   "cell_type": "code",
   "execution_count": 10,
   "id": "a181d3c5-6fd1-4656-82a6-99392fa99014",
   "metadata": {},
   "outputs": [
    {
     "name": "stdout",
     "output_type": "stream",
     "text": [
      "[NF Evaluation] AUC: nan, Accuracy (median cutoff): 0.500\n"
     ]
    },
    {
     "name": "stderr",
     "output_type": "stream",
     "text": [
      "/home/katya.govorkova/miniconda3/envs/gwak/lib/python3.11/site-packages/sklearn/metrics/_ranking.py:379: UndefinedMetricWarning: Only one class is present in y_true. ROC AUC score is not defined in that case.\n",
      "  warnings.warn(\n"
     ]
    }
   ],
   "source": [
    "from sklearn.metrics import roc_auc_score, accuracy_score\n",
    "\n",
    "flow.eval()\n",
    "nf_scores, y_test_true = [], []\n",
    "\n",
    "with torch.no_grad():\n",
    "    for xb, ctx, yb in test_loader:\n",
    "        xb, ctx = xb.to(device), ctx.to(device)\n",
    "        ll = flow.log_prob(inputs=xb, context=ctx)  # log-likelihood\n",
    "        nf_scores.append(ll.cpu().numpy())\n",
    "        y_test_true.append(yb.cpu().numpy())\n",
    "\n",
    "# Concatenate results\n",
    "nf_scores = np.concatenate(nf_scores)\n",
    "y_test_true = np.concatenate(y_test_true)\n",
    "\n",
    "# Invert scores for anomaly detection (background = anomaly = low LL)\n",
    "anomaly_scores = -nf_scores\n",
    "\n",
    "# Metrics\n",
    "roc_auc = roc_auc_score(y_test_true, anomaly_scores)\n",
    "acc = accuracy_score(y_test_true, anomaly_scores < np.median(anomaly_scores))  # crude threshold\n",
    "\n",
    "print(f\"[NF Evaluation] AUC: {roc_auc:.3f}, Accuracy (median cutoff): {acc:.3f}\")"
   ]
  },
  {
   "cell_type": "code",
   "execution_count": null,
   "id": "511693a2-a475-4e1c-8747-8a49f758e083",
   "metadata": {},
   "outputs": [],
   "source": [
    "print(\"Train signal label:\", train_signal_label)\n",
    "print(\"Test signal label counts:\", np.unique(y_test_filtered, return_counts=True))\n",
    "print(\"y_test_binary distribution:\", np.unique(y_test_binary, return_counts=True))"
   ]
  },
  {
   "cell_type": "code",
   "execution_count": null,
   "id": "2e1e4260-dadd-4907-af81-ba2455004ecb",
   "metadata": {},
   "outputs": [],
   "source": [
    "model.eval()\n",
    "bkg_probs = []\n",
    "\n",
    "with torch.no_grad():\n",
    "    for xb, _ in bkg_loader:\n",
    "        xb = xb.to(device)\n",
    "        probs = torch.sigmoid(model(xb))\n",
    "        bkg_probs.append(probs.cpu().numpy())\n",
    "\n",
    "bkg_probs = np.concatenate(bkg_probs)\n",
    "\n",
    "plt.hist(bkg_probs, bins=50, color='orange', alpha=0.7)\n",
    "plt.title(\"Classifier Scores on Background-Only Set\")\n",
    "plt.xlabel(\"Score\")\n",
    "plt.ylabel(\"Count\")\n",
    "plt.grid()\n",
    "plt.show()\n",
    "\n",
    "print(f\"Background scores > 0.5: {(bkg_probs > 0.5).sum()} / {len(bkg_probs)}\")"
   ]
  },
  {
   "cell_type": "code",
   "execution_count": null,
   "id": "5c392316-0dd5-405c-8e28-468899add3ab",
   "metadata": {},
   "outputs": [],
   "source": [
    "# Load trained NF\n",
    "nf_model = torch.jit.load(\"/home/katya.govorkova/gwak2/gwak/output/ResNet_NF_from_file_conditioning_HL/model_JIT.pt\").eval().to(device)\n",
    "\n",
    "# Evaluate NF log-probabilities on test set\n",
    "nf_scores = []\n",
    "\n",
    "with torch.no_grad():\n",
    "    for i in range(0, len(X_test), 512):\n",
    "        xb = torch.tensor(X_test[i:i+512], dtype=torch.float32).to(device)           # standardized embeddings\n",
    "        ctx = context_test_tensor[i:i+512].to(device)                                # corresponding context\n",
    "        log_probs = nf_model(xb, context=ctx) * (-1)                               # assumes .log_prob(x, context=...)\n",
    "        nf_scores.append(log_probs.cpu().numpy())\n",
    "\n",
    "nf_scores = np.concatenate(nf_scores)"
   ]
  },
  {
   "cell_type": "code",
   "execution_count": null,
   "id": "9eef2409-75b4-4807-8fcb-dd131ab6b090",
   "metadata": {},
   "outputs": [],
   "source": [
    "from sklearn.metrics import roc_auc_score, roc_curve\n",
    "\n",
    "# Signal of interest\n",
    "signal_label = 8\n",
    "background_labels = [10, 11]\n",
    "\n",
    "# Mask for selected signal + background\n",
    "mask = np.isin(y_test_full, [signal_label] + background_labels)\n",
    "y_bin_true = (y_test_full[mask] == signal_label).astype(int)\n",
    "\n",
    "# Classifier-based scores\n",
    "clf_scores = y_test_probs[mask]\n",
    "\n",
    "# NF anomaly scores (lower = more anomalous, so invert)\n",
    "nf_anomaly_scores = nf_scores[mask]\n",
    "\n",
    "# Plot\n",
    "plt.figure(figsize=(8, 6))\n",
    "\n",
    "# Classifier ROC\n",
    "fpr_clf, tpr_clf, _ = roc_curve(y_bin_true, clf_scores)\n",
    "auc_clf = roc_auc_score(y_bin_true, clf_scores)\n",
    "plt.plot(fpr_clf, tpr_clf, label=f\"Classifier (AUC={auc_clf:.2f})\")\n",
    "\n",
    "# NF ROC\n",
    "fpr_nf, tpr_nf, _ = roc_curve(y_bin_true, nf_anomaly_scores)\n",
    "auc_nf = roc_auc_score(y_bin_true, nf_anomaly_scores)\n",
    "plt.plot(fpr_nf, tpr_nf, label=f\"NF (AUC={auc_nf:.2f})\")\n",
    "\n",
    "# Plot formatting\n",
    "plt.plot([0, 1], [0, 1], '--', color='gray')\n",
    "plt.xlabel(\"False Positive Rate\")\n",
    "plt.ylabel(\"True Positive Rate\")\n",
    "plt.title(\"ROC Curve for Signal 8 (WNB) vs Background (10,11)\")\n",
    "plt.grid(True)\n",
    "plt.legend()\n",
    "plt.show()"
   ]
  },
  {
   "cell_type": "code",
   "execution_count": null,
   "id": "c804c528-a7e9-40a2-b08d-85e54761aea9",
   "metadata": {},
   "outputs": [],
   "source": [
    "# Log-scale histogram of predicted probabilities\n",
    "plt.figure(figsize=(8, 5))\n",
    "plt.hist(y_test_probs[y_test_true == 1], bins=100, alpha=0.6, label='Signal', density=True)\n",
    "plt.hist(y_test_probs[y_test_true == 0], bins=100, alpha=0.6, label='Background', density=True)\n",
    "plt.xscale('log')\n",
    "plt.xlabel('Prediction Score (log scale)')\n",
    "plt.ylabel('Density')\n",
    "plt.title('Classifier Score Tail (log scale)')\n",
    "plt.legend()\n",
    "plt.grid(True)\n",
    "plt.show()"
   ]
  },
  {
   "cell_type": "code",
   "execution_count": null,
   "id": "14759345-9729-4cbb-ad56-86869cf1b18c",
   "metadata": {},
   "outputs": [],
   "source": [
    "import numpy as np\n",
    "import matplotlib.pyplot as plt\n",
    "\n",
    "# Create subplots\n",
    "fig, axs = plt.subplots(1, 2, figsize=(14, 5), sharey=False)\n",
    "\n",
    "# --- Left: Classifier ---\n",
    "axs[0].hist(y_test_probs[y_test_true == 1], bins=100, alpha=0.6, label=f'Signal, {max(y_test_probs[y_test_true == 1]):.2f}', density=True)\n",
    "axs[0].hist(y_test_probs[y_test_true == 0], bins=100, alpha=0.6, label=f'Background, {max(y_test_probs[y_test_true == 0]):.2f}', density=True)\n",
    "axs[0].set_xlabel('Classifier Score (log scale)')\n",
    "axs[0].set_ylabel('Density')\n",
    "axs[0].set_title('Classifier Output')\n",
    "axs[0].legend()\n",
    "axs[0].grid(True)\n",
    "\n",
    "# --- Right: NF (clipped) ---\n",
    "axs[1].hist(nf_scores[y_test_true == 1], bins=100, alpha=0.6, label=f'Signal, {max(nf_scores[y_test_true == 1]):.2f}', density=True)\n",
    "axs[1].hist(nf_scores[y_test_true == 0], bins=100, alpha=0.6, label=f'Background, {max(nf_scores[y_test_true == 0]):.2f}', density=True)\n",
    "axs[1].set_xlabel('−Log-Likelihood (log scale)')\n",
    "axs[1].set_title('Normalizing Flow Output')\n",
    "axs[1].legend()\n",
    "axs[1].grid(True)\n",
    "\n",
    "plt.suptitle(\"Signal vs Background Score Distributions (log-scale)\")\n",
    "plt.tight_layout()\n",
    "plt.show()"
   ]
  },
  {
   "cell_type": "code",
   "execution_count": null,
   "id": "9bb18b4e-8e5b-407a-b056-154f425608b2",
   "metadata": {},
   "outputs": [],
   "source": [
    "min(y_test_probs[y_test_true == 1]), max(y_test_probs[y_test_true == 1])"
   ]
  },
  {
   "cell_type": "code",
   "execution_count": null,
   "id": "5c68b016-c2d5-4db0-a71e-83f033b0c503",
   "metadata": {},
   "outputs": [],
   "source": [
    "min(y_test_probs[y_test_true == 0]), max(y_test_probs[y_test_true == 0])"
   ]
  },
  {
   "cell_type": "code",
   "execution_count": null,
   "id": "89b715aa-8919-4bca-88f8-4399ae2306de",
   "metadata": {},
   "outputs": [],
   "source": [
    "from gwak.train.plotting import make_corner\n",
    "fig = make_corner(X_train, (y_train).astype(int), return_fig=True, label_names=['WNB', 'Background'])"
   ]
  },
  {
   "cell_type": "code",
   "execution_count": null,
   "id": "93197404-f632-4d42-939c-54f37ea399b0",
   "metadata": {},
   "outputs": [],
   "source": []
  }
 ],
 "metadata": {
  "kernelspec": {
   "display_name": "Python 3 (ipykernel)",
   "language": "python",
   "name": "python3"
  },
  "language_info": {
   "codemirror_mode": {
    "name": "ipython",
    "version": 3
   },
   "file_extension": ".py",
   "mimetype": "text/x-python",
   "name": "python",
   "nbconvert_exporter": "python",
   "pygments_lexer": "ipython3",
   "version": "3.11.11"
  }
 },
 "nbformat": 4,
 "nbformat_minor": 5
}
